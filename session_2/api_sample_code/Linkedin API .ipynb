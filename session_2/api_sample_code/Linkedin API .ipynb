{
 "cells": [
  {
   "cell_type": "code",
   "execution_count": null,
   "metadata": {
    "collapsed": true
   },
   "outputs": [],
   "source": []
  },
  {
   "cell_type": "code",
   "execution_count": 8,
   "metadata": {},
   "outputs": [
    {
     "name": "stdout",
     "output_type": "stream",
     "text": [
      "Visit this URL in your browser: https://api.linkedin.com/uas/oauth/authorize?oauth_token=81--0348ea0f-a84a-4f41-9924-bdb61f3bacd7\n",
      "Enter PIN from browser: 71814\n"
     ]
    }
   ],
   "source": [
    "\n",
    "\n",
    "from rauth.service import OAuth1Service\n",
    "\n",
    "linkedin = OAuth1Service(\n",
    "    consumer_key='',\n",
    "    consumer_secret='',\n",
    "    name='linkedin',\n",
    "    request_token_url='https://api.linkedin.com/uas/oauth/requestToken',\n",
    "    authorize_url='https://api.linkedin.com/uas/oauth/authorize',\n",
    "    access_token_url='https://api.linkedin.com/uas/oauth/accessToken',\n",
    "    base_url='http://api.linkedin.com/v1/')\n",
    "\n",
    "request_token, request_token_secret = linkedin.get_request_token()\n",
    "\n",
    "authorize_url = linkedin.get_authorize_url(request_token)\n",
    "\n",
    "print 'Visit this URL in your browser: ' + authorize_url\n",
    "pin = raw_input('Enter PIN from browser: ')\n",
    "\n",
    "session = linkedin.get_auth_session(request_token,\n",
    "                                    request_token_secret,\n",
    "                                    data={'oauth_verifier': pin},\n",
    "                                    header_auth=True)\n",
    "\n"
   ]
  },
  {
   "cell_type": "code",
   "execution_count": 9,
   "metadata": {},
   "outputs": [
    {
     "name": "stdout",
     "output_type": "stream",
     "text": [
      "<Response [403]>\n"
     ]
    }
   ],
   "source": []
  },
  {
   "cell_type": "code",
   "execution_count": null,
   "metadata": {
    "collapsed": true
   },
   "outputs": [],
   "source": []
  }
 ],
 "metadata": {
  "kernelspec": {
   "display_name": "Python 2",
   "language": "python",
   "name": "python2"
  },
  "language_info": {
   "codemirror_mode": {
    "name": "ipython",
    "version": 2
   },
   "file_extension": ".py",
   "mimetype": "text/x-python",
   "name": "python",
   "nbconvert_exporter": "python",
   "pygments_lexer": "ipython2",
   "version": "2.7.13"
  }
 },
 "nbformat": 4,
 "nbformat_minor": 2
}
